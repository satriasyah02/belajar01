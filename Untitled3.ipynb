{
  "nbformat": 4,
  "nbformat_minor": 0,
  "metadata": {
    "colab": {
      "provenance": []
    },
    "kernelspec": {
      "name": "python3",
      "display_name": "Python 3"
    },
    "language_info": {
      "name": "python"
    }
  },
  "cells": [
    {
      "cell_type": "markdown",
      "source": [
        "nilai terbesar"
      ],
      "metadata": {
        "id": "p5er1aag_Kks"
      }
    },
    {
      "cell_type": "code",
      "source": [
        "data = [3, 5 ,3 ,6 ,7 ,8 ,5 ,4 ,5]\n",
        "\n",
        "nilai_terbesar = data[0]\n",
        "\n",
        "for angka in data:\n",
        "  if (angka > nilai_terbesar):\n",
        "    nilai_terbesar = angka\n",
        "\n",
        "print(\"nilai terbesar adalah\", nilai_terbesar)"
      ],
      "metadata": {
        "colab": {
          "base_uri": "https://localhost:8080/"
        },
        "id": "nD8Hpr5F_N67",
        "outputId": "3a3f472d-9de7-47fc-98de-7dc5af0bda0b"
      },
      "execution_count": 3,
      "outputs": [
        {
          "output_type": "stream",
          "name": "stdout",
          "text": [
            "nilai terbesar adalah 8\n"
          ]
        }
      ]
    },
    {
      "cell_type": "code",
      "source": [
        "kelas_a = [55, 67, 89]\n",
        "kelas_b = [87, 65, 89]\n",
        "kelas_c = [65, 78, 54]\n",
        "\n",
        "nilai_terbesar_a = kelas_a[0]\n",
        "for angka in kelas_a:\n",
        "  if (angka > nilai_terbesar_a):\n",
        "    nilai_terbesar_a = angka\n",
        "\n",
        "print(nilai_terbesar_a)\n"
      ],
      "metadata": {
        "colab": {
          "base_uri": "https://localhost:8080/"
        },
        "id": "sX_hv_0UAykl",
        "outputId": "0793327d-8a7a-47c4-e2a6-67d6fa78992f"
      },
      "execution_count": 7,
      "outputs": [
        {
          "output_type": "stream",
          "name": "stdout",
          "text": [
            "89\n"
          ]
        }
      ]
    },
    {
      "cell_type": "markdown",
      "source": [
        "coba lagi"
      ],
      "metadata": {
        "id": "15zB-AUBeBrq"
      }
    },
    {
      "cell_type": "code",
      "source": [
        "data = [65, 73, 87, 64, 45, 98]\n",
        "\n",
        "nilai_terbesar = data[0]\n",
        "\n",
        "for angka in data:\n",
        "  if (angka > nilai_terbesar):\n",
        "    nilai_terbesar = angka\n",
        "\n",
        "print(\"nilai terbesar adalah\", nilai_terbesar)"
      ],
      "metadata": {
        "colab": {
          "base_uri": "https://localhost:8080/"
        },
        "id": "NfQ8corGeDFj",
        "outputId": "622093e9-2448-4e3b-87dd-d3708cb4aafe"
      },
      "execution_count": 11,
      "outputs": [
        {
          "output_type": "stream",
          "name": "stdout",
          "text": [
            "nilai terbesar adalah 98\n"
          ]
        }
      ]
    }
  ]
}